{
 "cells": [
  {
   "cell_type": "code",
   "execution_count": 2,
   "id": "4b6d15f0",
   "metadata": {},
   "outputs": [],
   "source": [
    "import statsmodels.api as sm\n",
    "import numpy as np"
   ]
  },
  {
   "cell_type": "code",
   "execution_count": 3,
   "id": "f8a08ce2",
   "metadata": {},
   "outputs": [],
   "source": [
    "duncan_prestige = sm.datasets.get_rdataset(\"Duncan\", \"carData\")"
   ]
  },
  {
   "cell_type": "code",
   "execution_count": 5,
   "id": "8d4d11f8",
   "metadata": {},
   "outputs": [],
   "source": [
    "Y = duncan_prestige.data['income']\n",
    "X = duncan_prestige.data['education']"
   ]
  },
  {
   "cell_type": "code",
   "execution_count": 6,
   "id": "3f083562",
   "metadata": {},
   "outputs": [],
   "source": [
    "X = sm.add_constant(X)#добавляет колонку из единиц "
   ]
  },
  {
   "cell_type": "code",
   "execution_count": 7,
   "id": "c583dce0",
   "metadata": {},
   "outputs": [],
   "source": [
    "model = sm.OLS(Y,X)"
   ]
  },
  {
   "cell_type": "code",
   "execution_count": 8,
   "id": "fd964df2",
   "metadata": {},
   "outputs": [],
   "source": [
    "results = model.fit()"
   ]
  },
  {
   "cell_type": "code",
   "execution_count": 9,
   "id": "6f895700",
   "metadata": {},
   "outputs": [
    {
     "data": {
      "text/plain": [
       "const        10.603498\n",
       "education     0.594859\n",
       "dtype: float64"
      ]
     },
     "execution_count": 9,
     "metadata": {},
     "output_type": "execute_result"
    }
   ],
   "source": [
    "results.params"
   ]
  },
  {
   "cell_type": "code",
   "execution_count": 10,
   "id": "70c7f4b9",
   "metadata": {},
   "outputs": [
    {
     "data": {
      "text/plain": [
       "const        2.039813\n",
       "education    6.892802\n",
       "dtype: float64"
      ]
     },
     "execution_count": 10,
     "metadata": {},
     "output_type": "execute_result"
    }
   ],
   "source": [
    "results.tvalues"
   ]
  },
  {
   "cell_type": "code",
   "execution_count": 11,
   "id": "57b48ed0",
   "metadata": {},
   "outputs": [
    {
     "name": "stdout",
     "output_type": "stream",
     "text": [
      "<F test: F=159.630310255925, p=1.2607168903697401e-20, df_denom=43, df_num=2>\n"
     ]
    }
   ],
   "source": [
    "print(results.f_test(np.identity(2)))"
   ]
  },
  {
   "cell_type": "code",
   "execution_count": null,
   "id": "7cc5893c",
   "metadata": {},
   "outputs": [],
   "source": []
  }
 ],
 "metadata": {
  "kernelspec": {
   "display_name": "Python 3 (ipykernel)",
   "language": "python",
   "name": "python3"
  },
  "language_info": {
   "codemirror_mode": {
    "name": "ipython",
    "version": 3
   },
   "file_extension": ".py",
   "mimetype": "text/x-python",
   "name": "python",
   "nbconvert_exporter": "python",
   "pygments_lexer": "ipython3",
   "version": "3.8.7"
  }
 },
 "nbformat": 4,
 "nbformat_minor": 5
}
